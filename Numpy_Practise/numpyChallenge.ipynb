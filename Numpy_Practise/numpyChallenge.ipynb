{
 "cells": [
  {
   "cell_type": "code",
   "execution_count": null,
   "metadata": {},
   "outputs": [],
   "source": [
    "# Challenge \n",
    "# Consider that you have an array like this:\n",
    "#array([[ 232,   11,   22],\n",
    "#       [ 333, 4434,   52],\n",
    "#       [  36,   74,   83]])\n",
    "#replace the values grater than 100 with 1 and less than 100 with 0"
   ]
  },
  {
   "cell_type": "code",
   "execution_count": 1,
   "metadata": {},
   "outputs": [],
   "source": [
    "import numpy as np"
   ]
  },
  {
   "cell_type": "code",
   "execution_count": 2,
   "metadata": {},
   "outputs": [],
   "source": [
    "a  = np.array([[ 232,   11,   22],\n",
    "       [ 333, 4434,   52],\n",
    "       [  36,   74,   83]])"
   ]
  },
  {
   "cell_type": "code",
   "execution_count": 3,
   "metadata": {},
   "outputs": [
    {
     "name": "stdout",
     "output_type": "stream",
     "text": [
      "[[ True False False]\n",
      " [ True  True False]\n",
      " [False False False]]\n",
      "[[False  True  True]\n",
      " [False False  True]\n",
      " [ True  True  True]]\n"
     ]
    }
   ],
   "source": [
    "b = a > 100 #this will return true for all the greater values\n",
    "c = a < 100 #this will return true for all the lesser values\n",
    "\n",
    "print(b)\n",
    "print(c)"
   ]
  },
  {
   "cell_type": "code",
   "execution_count": 4,
   "metadata": {},
   "outputs": [
    {
     "name": "stdout",
     "output_type": "stream",
     "text": [
      "[[1 0 0]\n",
      " [1 1 0]\n",
      " [0 0 0]]\n"
     ]
    }
   ],
   "source": [
    "a[b] = 1\n",
    "a[c] = 0\n",
    "print(a)"
   ]
  },
  {
   "cell_type": "code",
   "execution_count": null,
   "metadata": {},
   "outputs": [],
   "source": []
  }
 ],
 "metadata": {
  "interpreter": {
   "hash": "90abac6df7ac85df4fe7a1c900ead65dbdaf1d4a2c39c0c017fd29276072109d"
  },
  "kernelspec": {
   "display_name": "Python 3.10.4 64-bit (windows store)",
   "language": "python",
   "name": "python3"
  },
  "language_info": {
   "codemirror_mode": {
    "name": "ipython",
    "version": 3
   },
   "file_extension": ".py",
   "mimetype": "text/x-python",
   "name": "python",
   "nbconvert_exporter": "python",
   "pygments_lexer": "ipython3",
   "version": "3.10.4"
  },
  "orig_nbformat": 4
 },
 "nbformat": 4,
 "nbformat_minor": 2
}
