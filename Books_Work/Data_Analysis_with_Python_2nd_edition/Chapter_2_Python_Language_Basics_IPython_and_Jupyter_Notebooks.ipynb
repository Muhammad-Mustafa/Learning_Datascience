{
 "cells": [
  {
   "cell_type": "code",
   "execution_count": 12,
   "metadata": {},
   "outputs": [
    {
     "data": {
      "text/plain": [
       "array([0.01799676, 0.68618411, 0.57983932, 0.86346104, 0.21466493,\n",
       "       0.62048522, 0.20753421, 0.73845686, 0.87292359, 0.35548076,\n",
       "       0.70639357, 0.29625075, 0.68554008, 0.69015802, 0.37087872,\n",
       "       0.75979132, 0.84363837, 0.24118076, 0.6905406 , 0.71411318,\n",
       "       0.97519832, 0.13995692, 0.30287535, 0.4045439 , 0.42801701,\n",
       "       0.06132209, 0.01894926, 0.14438468, 0.62363762, 0.27787678,\n",
       "       0.64787881, 0.12823138, 0.05310511, 0.56740961, 0.87007836,\n",
       "       0.87634055, 0.84497861, 0.19020135, 0.70136705, 0.87029803,\n",
       "       0.99487534, 0.38476549, 0.02534253, 0.51395887, 0.54435087,\n",
       "       0.26197786, 0.31140271, 0.18844302, 0.32706586, 0.84174326])"
      ]
     },
     "execution_count": 12,
     "metadata": {},
     "output_type": "execute_result"
    }
   ],
   "source": [
    "import matplotlib.pyplot as plt\n",
    "import numpy as np\n",
    "#plt.plot(np.random.rand(50))\n",
    "df = np.random.rand(50)\n",
    "df"
   ]
  },
  {
   "cell_type": "code",
   "execution_count": 13,
   "metadata": {},
   "outputs": [
    {
     "data": {
      "text/plain": [
       "[<matplotlib.lines.Line2D at 0x1aeef877c10>]"
      ]
     },
     "execution_count": 13,
     "metadata": {},
     "output_type": "execute_result"
    },
    {
     "data": {
      "image/png": "[encoded data removed]",
      "text/plain": [
       "<Figure size 432x288 with 1 Axes>"
      ]
     },
     "metadata": {
      "needs_background": "light"
     },
     "output_type": "display_data"
    }
   ],
   "source": [
    "plt.plot(df.cumsum())"
   ]
  },
  {
   "cell_type": "code",
   "execution_count": null,
   "metadata": {},
   "outputs": [],
   "source": []
  }
 ],
 "metadata": {
  "interpreter": {
   "hash": "90abac6df7ac85df4fe7a1c900ead65dbdaf1d4a2c39c0c017fd29276072109d"
  },
  "kernelspec": {
   "display_name": "Python 3.10.4 64-bit (windows store)",
   "language": "python",
   "name": "python3"
  },
  "language_info": {
   "codemirror_mode": {
    "name": "ipython",
    "version": 3
   },
   "file_extension": ".py",
   "mimetype": "text/x-python",
   "name": "python",
   "nbconvert_exporter": "python",
   "pygments_lexer": "ipython3",
   "version": "3.10.4"
  },
  "orig_nbformat": 4
 },
 "nbformat": 4,
 "nbformat_minor": 2
}
