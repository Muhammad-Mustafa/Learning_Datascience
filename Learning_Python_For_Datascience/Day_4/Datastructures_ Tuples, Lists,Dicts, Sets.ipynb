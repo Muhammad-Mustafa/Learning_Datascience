{
 "cells": [
  {
   "cell_type": "markdown",
   "id": "5aed7dae",
   "metadata": {},
   "source": [
    "# Basic Data Structure In Python\n",
    "\n",
    "## 1- Tuple\n",
    "## 2- List\n",
    "## 3- Dict\n",
    "## 4- Set"
   ]
  },
  {
   "cell_type": "markdown",
   "id": "5da50007",
   "metadata": {},
   "source": [
    "## Tuple\n",
    "\n",
    "**- ordered collection of elements**\n",
    "\n",
    "**- enclosed with round braces ()**\n",
    "\n",
    "**- Tuples are immutable means ones the values are entered, you cannot change the values**\n"
   ]
  },
  {
   "cell_type": "code",
   "execution_count": 1,
   "id": "7fb05a69",
   "metadata": {},
   "outputs": [
    {
     "data": {
      "text/plain": [
       "(1, 'Python', True, 2.5, 1, 'Python', True, 2.5)"
      ]
     },
     "execution_count": 1,
     "metadata": {},
     "output_type": "execute_result"
    }
   ],
   "source": [
    "#Tuples can store different data types \n",
    "\n",
    "#Basic Example\n",
    "tup1 = (1, \"Python\", True, 2.5,1, \"Python\", True, 2.5)\n",
    "tup1\n"
   ]
  },
  {
   "cell_type": "code",
   "execution_count": 2,
   "id": "53daa20c",
   "metadata": {},
   "outputs": [
    {
     "data": {
      "text/plain": [
       "(1,\n",
       " 'Python',\n",
       " True,\n",
       " 2.5,\n",
       " ('Python', True, 2.5),\n",
       " ['Python', True, 2.5],\n",
       " {'name': 'Mustafa'})"
      ]
     },
     "execution_count": 2,
     "metadata": {},
     "output_type": "execute_result"
    }
   ],
   "source": [
    "#Advance Example\n",
    "tup2 = (1, \"Python\", True, 2.5,(\"Python\", True, 2.5), [\"Python\", True, 2.5], {\"name\": \"Mustafa\"} )\n",
    "tup2"
   ]
  },
  {
   "cell_type": "code",
   "execution_count": 3,
   "id": "51e0cea1",
   "metadata": {},
   "outputs": [
    {
     "data": {
      "text/plain": [
       "'Python'"
      ]
     },
     "execution_count": 3,
     "metadata": {},
     "output_type": "execute_result"
    }
   ],
   "source": [
    "tup1[1]"
   ]
  },
  {
   "cell_type": "code",
   "execution_count": 4,
   "id": "6501bcdc",
   "metadata": {},
   "outputs": [
    {
     "data": {
      "text/plain": [
       "('Python', True, 2.5, ('Python', True, 2.5), ['Python', True, 2.5])"
      ]
     },
     "execution_count": 4,
     "metadata": {},
     "output_type": "execute_result"
    }
   ],
   "source": [
    "tup2[1:6]"
   ]
  },
  {
   "cell_type": "code",
   "execution_count": 5,
   "id": "0df74cfa",
   "metadata": {},
   "outputs": [
    {
     "data": {
      "text/plain": [
       "7"
      ]
     },
     "execution_count": 5,
     "metadata": {},
     "output_type": "execute_result"
    }
   ],
   "source": [
    "len(tup2)"
   ]
  },
  {
   "cell_type": "code",
   "execution_count": 6,
   "id": "8de130d2",
   "metadata": {},
   "outputs": [
    {
     "data": {
      "text/plain": [
       "(1,\n",
       " 'Python',\n",
       " True,\n",
       " 2.5,\n",
       " 1,\n",
       " 'Python',\n",
       " True,\n",
       " 2.5,\n",
       " 1,\n",
       " 'Python',\n",
       " True,\n",
       " 2.5,\n",
       " ('Python', True, 2.5),\n",
       " ['Python', True, 2.5],\n",
       " {'name': 'Mustafa'})"
      ]
     },
     "execution_count": 6,
     "metadata": {},
     "output_type": "execute_result"
    }
   ],
   "source": [
    "#Concatination\n",
    "tup1 + tup2"
   ]
  },
  {
   "cell_type": "code",
   "execution_count": 7,
   "id": "a775f121",
   "metadata": {},
   "outputs": [
    {
     "data": {
      "text/plain": [
       "(1,\n",
       " 'Python',\n",
       " True,\n",
       " 2.5,\n",
       " 1,\n",
       " 'Python',\n",
       " True,\n",
       " 2.5,\n",
       " 1,\n",
       " 'Python',\n",
       " True,\n",
       " 2.5,\n",
       " 1,\n",
       " 'Python',\n",
       " True,\n",
       " 2.5,\n",
       " 1,\n",
       " 'Python',\n",
       " True,\n",
       " 2.5,\n",
       " 1,\n",
       " 'Python',\n",
       " True,\n",
       " 2.5)"
      ]
     },
     "execution_count": 7,
     "metadata": {},
     "output_type": "execute_result"
    }
   ],
   "source": [
    "#Repetition\n",
    "tup1*3"
   ]
  },
  {
   "cell_type": "code",
   "execution_count": 8,
   "id": "efec6c82",
   "metadata": {},
   "outputs": [
    {
     "data": {
      "text/plain": [
       "(10, 20, 30, 40, 50, 60)"
      ]
     },
     "execution_count": 8,
     "metadata": {},
     "output_type": "execute_result"
    }
   ],
   "source": [
    "tup3 = (10,20,30,40,50,60)\n",
    "tup3"
   ]
  },
  {
   "cell_type": "code",
   "execution_count": 9,
   "id": "6bdd0e90",
   "metadata": {},
   "outputs": [
    {
     "data": {
      "text/plain": [
       "10"
      ]
     },
     "execution_count": 9,
     "metadata": {},
     "output_type": "execute_result"
    }
   ],
   "source": [
    "min(tup3)"
   ]
  },
  {
   "cell_type": "code",
   "execution_count": 10,
   "id": "7fd3ef7c",
   "metadata": {},
   "outputs": [
    {
     "data": {
      "text/plain": [
       "60"
      ]
     },
     "execution_count": 10,
     "metadata": {},
     "output_type": "execute_result"
    }
   ],
   "source": [
    "max(tup3)"
   ]
  },
  {
   "cell_type": "code",
   "execution_count": 11,
   "id": "84b7ffa3",
   "metadata": {},
   "outputs": [
    {
     "data": {
      "text/plain": [
       "tuple"
      ]
     },
     "execution_count": 11,
     "metadata": {},
     "output_type": "execute_result"
    }
   ],
   "source": [
    "type(tup2)"
   ]
  },
  {
   "cell_type": "code",
   "execution_count": 12,
   "id": "a965081c",
   "metadata": {},
   "outputs": [
    {
     "data": {
      "text/plain": [
       "(1, 'Python', True, 2.5, 1, 'Python', True, 2.5)"
      ]
     },
     "execution_count": 12,
     "metadata": {},
     "output_type": "execute_result"
    }
   ],
   "source": [
    "tup1"
   ]
  },
  {
   "cell_type": "code",
   "execution_count": 13,
   "id": "21ca0cca",
   "metadata": {},
   "outputs": [
    {
     "data": {
      "text/plain": [
       "1"
      ]
     },
     "execution_count": 13,
     "metadata": {},
     "output_type": "execute_result"
    }
   ],
   "source": [
    "tup1.index('Python')"
   ]
  },
  {
   "cell_type": "code",
   "execution_count": 14,
   "id": "d20f2f7b",
   "metadata": {},
   "outputs": [
    {
     "data": {
      "text/plain": [
       "2"
      ]
     },
     "execution_count": 14,
     "metadata": {},
     "output_type": "execute_result"
    }
   ],
   "source": [
    "#Count method will return the count how many time the given value appares in the dataType\n",
    "tup1.count(2.5)\n"
   ]
  },
  {
   "cell_type": "markdown",
   "id": "b907041a",
   "metadata": {},
   "source": [
    "## List\n",
    "\n",
    "**- ordered collection of elements**\n",
    "\n",
    "**- enclosed with square braces []**\n",
    "\n",
    "**- List are mutable means ones the values are entered, you can change the values**\n",
    " "
   ]
  },
  {
   "cell_type": "code",
   "execution_count": 15,
   "id": "de5df6a7",
   "metadata": {},
   "outputs": [
    {
     "data": {
      "text/plain": [
       "[1, 'Python', 2.5, 'Mustafa', False, 66]"
      ]
     },
     "execution_count": 15,
     "metadata": {},
     "output_type": "execute_result"
    }
   ],
   "source": [
    "#Simple Example\n",
    "list1 = [1, 'Python', 2.5, \"Mustafa\",False, 66]\n",
    "list1"
   ]
  },
  {
   "cell_type": "code",
   "execution_count": 16,
   "id": "c75817de",
   "metadata": {},
   "outputs": [
    {
     "data": {
      "text/plain": [
       "[1,\n",
       " 'Mustafa',\n",
       " True,\n",
       " 9.0,\n",
       " (True, 33, 'Muhammad'),\n",
       " [True, 33, 'Muhammad'],\n",
       " {'name': 'Mustafa'}]"
      ]
     },
     "execution_count": 16,
     "metadata": {},
     "output_type": "execute_result"
    }
   ],
   "source": [
    "#Advance Example\n",
    "adList = [1,\"Mustafa\", True, 9.0, (True, 33, 'Muhammad'),[True, 33, 'Muhammad'],{'name': \"Mustafa\"}]\n",
    "adList"
   ]
  },
  {
   "cell_type": "code",
   "execution_count": 17,
   "id": "a55ef233",
   "metadata": {},
   "outputs": [
    {
     "data": {
      "text/plain": [
       "[55, True, 33, 'Muhammad']"
      ]
     },
     "execution_count": 17,
     "metadata": {},
     "output_type": "execute_result"
    }
   ],
   "source": [
    "list2 = [55, True, 33, 'Muhammad']\n",
    "list2"
   ]
  },
  {
   "cell_type": "code",
   "execution_count": 18,
   "id": "f537b475",
   "metadata": {},
   "outputs": [
    {
     "data": {
      "text/plain": [
       "list"
      ]
     },
     "execution_count": 18,
     "metadata": {},
     "output_type": "execute_result"
    }
   ],
   "source": [
    "type(list1)"
   ]
  },
  {
   "cell_type": "code",
   "execution_count": 19,
   "id": "5f3737b8",
   "metadata": {},
   "outputs": [
    {
     "data": {
      "text/plain": [
       "6"
      ]
     },
     "execution_count": 19,
     "metadata": {},
     "output_type": "execute_result"
    }
   ],
   "source": [
    "len(list1)"
   ]
  },
  {
   "cell_type": "code",
   "execution_count": 20,
   "id": "5413e0a8",
   "metadata": {},
   "outputs": [
    {
     "data": {
      "text/plain": [
       "2.5"
      ]
     },
     "execution_count": 20,
     "metadata": {},
     "output_type": "execute_result"
    }
   ],
   "source": [
    "list1[2]"
   ]
  },
  {
   "cell_type": "code",
   "execution_count": 21,
   "id": "a49be677",
   "metadata": {},
   "outputs": [
    {
     "data": {
      "text/plain": [
       "[1, 'Python', 2.5, 'Mustafa', False, 66, 55, True, 33, 'Muhammad']"
      ]
     },
     "execution_count": 21,
     "metadata": {},
     "output_type": "execute_result"
    }
   ],
   "source": [
    "#Concatination\n",
    "list1 + list2\n"
   ]
  },
  {
   "cell_type": "code",
   "execution_count": 22,
   "id": "5e59d4e1",
   "metadata": {},
   "outputs": [
    {
     "data": {
      "text/plain": [
       "[1,\n",
       " 'Python',\n",
       " 2.5,\n",
       " 'Mustafa',\n",
       " False,\n",
       " 66,\n",
       " 1,\n",
       " 'Python',\n",
       " 2.5,\n",
       " 'Mustafa',\n",
       " False,\n",
       " 66]"
      ]
     },
     "execution_count": 22,
     "metadata": {},
     "output_type": "execute_result"
    }
   ],
   "source": [
    "list1 * 2\n"
   ]
  },
  {
   "cell_type": "code",
   "execution_count": 26,
   "id": "9e6af21e",
   "metadata": {},
   "outputs": [
    {
     "data": {
      "text/plain": [
       "[66, False, 'Mustafa', 2.5, 'Python', 1]"
      ]
     },
     "execution_count": 26,
     "metadata": {},
     "output_type": "execute_result"
    }
   ],
   "source": [
    "list1.reverse()\n",
    "list1"
   ]
  },
  {
   "cell_type": "code",
   "execution_count": 28,
   "id": "11b203bf",
   "metadata": {},
   "outputs": [
    {
     "data": {
      "text/plain": [
       "[66, False, 'Mustafa', 2.5, 'Python', 1, 'Hello', 'Hello']"
      ]
     },
     "execution_count": 28,
     "metadata": {},
     "output_type": "execute_result"
    }
   ],
   "source": [
    "list1.append(\"Hello\")\n",
    "list1"
   ]
  },
  {
   "cell_type": "code",
   "execution_count": 29,
   "id": "0ef4ba77",
   "metadata": {},
   "outputs": [
    {
     "data": {
      "text/plain": [
       "2"
      ]
     },
     "execution_count": 29,
     "metadata": {},
     "output_type": "execute_result"
    }
   ],
   "source": [
    "list1.count(\"Hello\")"
   ]
  },
  {
   "cell_type": "code",
   "execution_count": 32,
   "id": "fb1e1202",
   "metadata": {},
   "outputs": [
    {
     "data": {
      "text/plain": [
       "[66, False, 'Mustafa', 2.5, 'Python', 1, 'Hello', 'Hello']"
      ]
     },
     "execution_count": 32,
     "metadata": {},
     "output_type": "execute_result"
    }
   ],
   "source": [
    "x = list1.copy()\n",
    "x"
   ]
  },
  {
   "cell_type": "code",
   "execution_count": 33,
   "id": "e7e657ca",
   "metadata": {},
   "outputs": [
    {
     "data": {
      "text/plain": [
       "[]"
      ]
     },
     "execution_count": 33,
     "metadata": {},
     "output_type": "execute_result"
    }
   ],
   "source": [
    "list1.clear()\n",
    "list1"
   ]
  },
  {
   "cell_type": "code",
   "execution_count": 34,
   "id": "844ced67",
   "metadata": {},
   "outputs": [
    {
     "data": {
      "text/plain": [
       "[66, False, 'Mustafa', 2.5, 'Python', 1, 'Hello', 'Hello']"
      ]
     },
     "execution_count": 34,
     "metadata": {},
     "output_type": "execute_result"
    }
   ],
   "source": [
    "list1 = x.copy()\n",
    "list1"
   ]
  },
  {
   "cell_type": "code",
   "execution_count": 35,
   "id": "f8dd60b0",
   "metadata": {},
   "outputs": [
    {
     "data": {
      "text/plain": [
       "[66,\n",
       " False,\n",
       " 'Mustafa',\n",
       " 2.5,\n",
       " 'Python',\n",
       " 1,\n",
       " 'Hello',\n",
       " 'Hello',\n",
       " 66,\n",
       " False,\n",
       " 'Mustafa',\n",
       " 2.5,\n",
       " 'Python',\n",
       " 1,\n",
       " 'Hello',\n",
       " 'Hello']"
      ]
     },
     "execution_count": 35,
     "metadata": {},
     "output_type": "execute_result"
    }
   ],
   "source": [
    "list1.extend(x)\n",
    "list1"
   ]
  },
  {
   "cell_type": "code",
   "execution_count": 36,
   "id": "102b89cd",
   "metadata": {},
   "outputs": [
    {
     "data": {
      "text/plain": [
       "4"
      ]
     },
     "execution_count": 36,
     "metadata": {},
     "output_type": "execute_result"
    }
   ],
   "source": [
    "list1.count(\"Hello\")"
   ]
  },
  {
   "cell_type": "code",
   "execution_count": 37,
   "id": "d06e439d",
   "metadata": {},
   "outputs": [
    {
     "data": {
      "text/plain": [
       "2"
      ]
     },
     "execution_count": 37,
     "metadata": {},
     "output_type": "execute_result"
    }
   ],
   "source": [
    "list1.index('Mustafa')"
   ]
  },
  {
   "cell_type": "code",
   "execution_count": 41,
   "id": "6c5b16d0",
   "metadata": {},
   "outputs": [
    {
     "data": {
      "text/plain": [
       "['newVal',\n",
       " 'newVal',\n",
       " 'newVal',\n",
       " 66,\n",
       " False,\n",
       " 'Mustafa',\n",
       " 2.5,\n",
       " 'Python',\n",
       " 1,\n",
       " 'Hello',\n",
       " 'Hello',\n",
       " 66,\n",
       " False,\n",
       " 'Mustafa',\n",
       " 2.5,\n",
       " 'Python',\n",
       " 1,\n",
       " 'Hello',\n",
       " 'Hello']"
      ]
     },
     "execution_count": 41,
     "metadata": {},
     "output_type": "execute_result"
    }
   ],
   "source": [
    "list1.insert(0,'newVal')\n",
    "list1"
   ]
  },
  {
   "cell_type": "code",
   "execution_count": 43,
   "id": "63e6f080",
   "metadata": {},
   "outputs": [
    {
     "data": {
      "text/plain": [
       "['newVal',\n",
       " 'newVal',\n",
       " 'newVal',\n",
       " 66,\n",
       " False,\n",
       " 'Mustafa',\n",
       " 2.5,\n",
       " 'Python',\n",
       " 1,\n",
       " 'Hello',\n",
       " 'Hello',\n",
       " 66,\n",
       " False,\n",
       " 'Mustafa',\n",
       " 2.5,\n",
       " 'Python',\n",
       " 1]"
      ]
     },
     "execution_count": 43,
     "metadata": {},
     "output_type": "execute_result"
    }
   ],
   "source": [
    "list1.pop()\n",
    "list1"
   ]
  },
  {
   "cell_type": "code",
   "execution_count": 44,
   "id": "e0d755b3",
   "metadata": {},
   "outputs": [
    {
     "data": {
      "text/plain": [
       "['newVal',\n",
       " 'newVal',\n",
       " 66,\n",
       " False,\n",
       " 'Mustafa',\n",
       " 2.5,\n",
       " 'Python',\n",
       " 1,\n",
       " 'Hello',\n",
       " 'Hello',\n",
       " 66,\n",
       " False,\n",
       " 'Mustafa',\n",
       " 2.5,\n",
       " 'Python',\n",
       " 1]"
      ]
     },
     "execution_count": 44,
     "metadata": {},
     "output_type": "execute_result"
    }
   ],
   "source": [
    "list1.remove('newVal')\n",
    "list1"
   ]
  },
  {
   "cell_type": "code",
   "execution_count": 46,
   "id": "1c501e58",
   "metadata": {},
   "outputs": [
    {
     "data": {
      "text/plain": [
       "[22,\n",
       " 331,\n",
       " 1,\n",
       " 32,\n",
       " 44,\n",
       " 12,\n",
       " 45,\n",
       " 1,\n",
       " 2,\n",
       " 4,\n",
       " 66,\n",
       " 4,\n",
       " 111,\n",
       " 53,\n",
       " 25,\n",
       " 6,\n",
       " 4,\n",
       " 2,\n",
       " 67,\n",
       " 32,\n",
       " 2,\n",
       " 6,\n",
       " 3,\n",
       " 4,\n",
       " 2165,\n",
       " 45]"
      ]
     },
     "execution_count": 46,
     "metadata": {},
     "output_type": "execute_result"
    }
   ],
   "source": [
    "numList = [22,331,1,32,44,12,45,1,2,4,66,4,111,53,25,6,4,2,67,32,2,6,3,4,2165,45]\n",
    "numList"
   ]
  },
  {
   "cell_type": "code",
   "execution_count": 47,
   "id": "00037a85",
   "metadata": {},
   "outputs": [
    {
     "data": {
      "text/plain": [
       "[1,\n",
       " 1,\n",
       " 2,\n",
       " 2,\n",
       " 2,\n",
       " 3,\n",
       " 4,\n",
       " 4,\n",
       " 4,\n",
       " 4,\n",
       " 6,\n",
       " 6,\n",
       " 12,\n",
       " 22,\n",
       " 25,\n",
       " 32,\n",
       " 32,\n",
       " 44,\n",
       " 45,\n",
       " 45,\n",
       " 53,\n",
       " 66,\n",
       " 67,\n",
       " 111,\n",
       " 331,\n",
       " 2165]"
      ]
     },
     "execution_count": 47,
     "metadata": {},
     "output_type": "execute_result"
    }
   ],
   "source": [
    "numList.sort()\n",
    "numList\n"
   ]
  },
  {
   "cell_type": "markdown",
   "id": "598d291e",
   "metadata": {},
   "source": [
    "## Dict\n",
    "\n",
    "**- unordered collection of elements**\n",
    "\n",
    "**- enclosed with curly braces {}**\n",
    "\n",
    "**- Dict are mutable means ones the values are entered, you can change the values**\n",
    " \n",
    "**- Dict are consist of key value pairs** "
   ]
  },
  {
   "cell_type": "code",
   "execution_count": 51,
   "id": "9b09c1fd",
   "metadata": {},
   "outputs": [
    {
     "data": {
      "text/plain": [
       "{'Name': 'Mustafa', 'car': 'bmw'}"
      ]
     },
     "execution_count": 51,
     "metadata": {},
     "output_type": "execute_result"
    }
   ],
   "source": [
    "dict1 = {\"Name\": \"Mustafa\", 'car': 'bmw'}\n",
    "dict1\n"
   ]
  },
  {
   "cell_type": "code",
   "execution_count": 52,
   "id": "40e925b8",
   "metadata": {},
   "outputs": [
    {
     "data": {
      "text/plain": [
       "{'Fruits_Prices': {'apple': 20, 'banana': 20},\n",
       " 'List_Of_Shops': [22, 3, 4, 5, 3, 2, 2]}"
      ]
     },
     "execution_count": 52,
     "metadata": {},
     "output_type": "execute_result"
    }
   ],
   "source": [
    "#advance Dict\n",
    "dict2 = {\"Fruits_Prices\":{'apple': 20, 'banana': 20}, \"List_Of_Shops\":[22,3,4,5,3,2,2]}\n",
    "dict2"
   ]
  },
  {
   "cell_type": "code",
   "execution_count": 57,
   "id": "5eeaf914",
   "metadata": {},
   "outputs": [
    {
     "data": {
      "text/plain": [
       "{'Name': 'Mustafa', 'car': 'bmw'}"
      ]
     },
     "execution_count": 57,
     "metadata": {},
     "output_type": "execute_result"
    }
   ],
   "source": [
    "y =  dict1.copy()\n",
    "y"
   ]
  },
  {
   "cell_type": "code",
   "execution_count": 59,
   "id": "309033f0",
   "metadata": {},
   "outputs": [
    {
     "data": {
      "text/plain": [
       "{}"
      ]
     },
     "execution_count": 59,
     "metadata": {},
     "output_type": "execute_result"
    }
   ],
   "source": [
    "dict1.clear()\n",
    "dict1"
   ]
  },
  {
   "cell_type": "code",
   "execution_count": 60,
   "id": "5373750e",
   "metadata": {},
   "outputs": [
    {
     "data": {
      "text/plain": [
       "{'Name': 'Mustafa', 'car': 'bmw'}"
      ]
     },
     "execution_count": 60,
     "metadata": {},
     "output_type": "execute_result"
    }
   ],
   "source": [
    "dict1 = y.copy()\n",
    "dict1"
   ]
  },
  {
   "cell_type": "code",
   "execution_count": 63,
   "id": "714eff8c",
   "metadata": {},
   "outputs": [
    {
     "data": {
      "text/plain": [
       "'Mustafa'"
      ]
     },
     "execution_count": 63,
     "metadata": {},
     "output_type": "execute_result"
    }
   ],
   "source": [
    "dict1.get('Name')"
   ]
  },
  {
   "cell_type": "code",
   "execution_count": 64,
   "id": "42d9fd0f",
   "metadata": {},
   "outputs": [
    {
     "data": {
      "text/plain": [
       "dict_items([('Name', 'Mustafa'), ('car', 'bmw')])"
      ]
     },
     "execution_count": 64,
     "metadata": {},
     "output_type": "execute_result"
    }
   ],
   "source": [
    "dict1.items()"
   ]
  },
  {
   "cell_type": "code",
   "execution_count": 65,
   "id": "c1d768a6",
   "metadata": {},
   "outputs": [
    {
     "data": {
      "text/plain": [
       "dict_keys(['Name', 'car'])"
      ]
     },
     "execution_count": 65,
     "metadata": {},
     "output_type": "execute_result"
    }
   ],
   "source": [
    "dict1.keys()\n"
   ]
  },
  {
   "cell_type": "code",
   "execution_count": 67,
   "id": "5474fb55",
   "metadata": {},
   "outputs": [
    {
     "data": {
      "text/plain": [
       "{'Name': 'Mustafa'}"
      ]
     },
     "execution_count": 67,
     "metadata": {},
     "output_type": "execute_result"
    }
   ],
   "source": [
    "dict1.pop('car')\n",
    "dict1"
   ]
  },
  {
   "cell_type": "code",
   "execution_count": 71,
   "id": "e88135c7",
   "metadata": {},
   "outputs": [],
   "source": [
    "dict1 = y.copy()"
   ]
  },
  {
   "cell_type": "code",
   "execution_count": 72,
   "id": "84d506be",
   "metadata": {},
   "outputs": [
    {
     "data": {
      "text/plain": [
       "('car', 'bmw')"
      ]
     },
     "execution_count": 72,
     "metadata": {},
     "output_type": "execute_result"
    }
   ],
   "source": [
    "dict1.popitem()"
   ]
  },
  {
   "cell_type": "code",
   "execution_count": 73,
   "id": "8c532974",
   "metadata": {},
   "outputs": [],
   "source": [
    "dict1 = y.copy()"
   ]
  },
  {
   "cell_type": "code",
   "execution_count": 74,
   "id": "f17ad0dc",
   "metadata": {},
   "outputs": [
    {
     "data": {
      "text/plain": [
       "{'Name': 'Mustafa', 'car': 'bmw', 'Room': 1}"
      ]
     },
     "execution_count": 74,
     "metadata": {},
     "output_type": "execute_result"
    }
   ],
   "source": [
    "dict1.update({'Room': 1})\n",
    "dict1\n"
   ]
  },
  {
   "cell_type": "code",
   "execution_count": 75,
   "id": "4521c494",
   "metadata": {},
   "outputs": [
    {
     "data": {
      "text/plain": [
       "dict_values(['Mustafa', 'bmw', 1])"
      ]
     },
     "execution_count": 75,
     "metadata": {},
     "output_type": "execute_result"
    }
   ],
   "source": [
    "dict1.values()"
   ]
  },
  {
   "cell_type": "code",
   "execution_count": 79,
   "id": "f6633b99",
   "metadata": {},
   "outputs": [
    {
     "data": {
      "text/plain": [
       "{'Name': 'Mustafa', 'car': 'bmw', 'Room': 1}"
      ]
     },
     "execution_count": 79,
     "metadata": {},
     "output_type": "execute_result"
    }
   ],
   "source": [
    "dict1.setdefault(\"Name\",\"Muhammad\")\n",
    "dict1"
   ]
  },
  {
   "cell_type": "markdown",
   "id": "991d2cb5",
   "metadata": {},
   "source": [
    "## Sets\n",
    "\n",
    "**- unordered collection of elements**\n",
    "\n",
    "**- enclosed with curly braces {}**\n",
    "\n",
    "**- unindexed**\n",
    " \n",
    "**- no duplicates allowed** "
   ]
  },
  {
   "cell_type": "code",
   "execution_count": 80,
   "id": "0fd80533",
   "metadata": {},
   "outputs": [
    {
     "data": {
      "text/plain": [
       "{11, 33.33, 'Muhammad', 'Mustafa'}"
      ]
     },
     "execution_count": 80,
     "metadata": {},
     "output_type": "execute_result"
    }
   ],
   "source": [
    "set1 = {11,'Muhammad', \"Mustafa\", 33.33}\n",
    "set1"
   ]
  },
  {
   "cell_type": "code",
   "execution_count": 81,
   "id": "a51de39b",
   "metadata": {},
   "outputs": [
    {
     "data": {
      "text/plain": [
       "{11, 33.33, 'Muhammad', 'Mustafa', 'newValue'}"
      ]
     },
     "execution_count": 81,
     "metadata": {},
     "output_type": "execute_result"
    }
   ],
   "source": [
    "set1.add('newValue')\n",
    "set1"
   ]
  },
  {
   "cell_type": "code",
   "execution_count": 82,
   "id": "c7c56fc6",
   "metadata": {},
   "outputs": [
    {
     "data": {
      "text/plain": [
       "{11, 33.33, 'Muhammad', 'Mustafa', 'newValue'}"
      ]
     },
     "execution_count": 82,
     "metadata": {},
     "output_type": "execute_result"
    }
   ],
   "source": [
    "set2 = set1.copy()\n",
    "set2"
   ]
  },
  {
   "cell_type": "code",
   "execution_count": 83,
   "id": "2cda10b9",
   "metadata": {},
   "outputs": [
    {
     "data": {
      "text/plain": [
       "set()"
      ]
     },
     "execution_count": 83,
     "metadata": {},
     "output_type": "execute_result"
    }
   ],
   "source": [
    "set1.clear()\n",
    "set1"
   ]
  },
  {
   "cell_type": "code",
   "execution_count": 84,
   "id": "b7b57ded",
   "metadata": {},
   "outputs": [
    {
     "data": {
      "text/plain": [
       "{11, 33.33, 'Muhammad', 'Mustafa', 'newValue'}"
      ]
     },
     "execution_count": 84,
     "metadata": {},
     "output_type": "execute_result"
    }
   ],
   "source": [
    "set1 = set2.copy()\n",
    "set1"
   ]
  },
  {
   "cell_type": "code",
   "execution_count": 89,
   "id": "3498f19e",
   "metadata": {},
   "outputs": [],
   "source": [
    "abc_Set = {'a','b','c'}\n",
    "abcd_Set = {'a','b','d'}\n"
   ]
  },
  {
   "cell_type": "code",
   "execution_count": 90,
   "id": "f6d34202",
   "metadata": {},
   "outputs": [
    {
     "data": {
      "text/plain": [
       "{'c'}"
      ]
     },
     "execution_count": 90,
     "metadata": {},
     "output_type": "execute_result"
    }
   ],
   "source": [
    "#checks the 2 same length Sets and return the difference of the set\n",
    "\n",
    "deff_set = abc_Set.difference(abcd_Set)\n",
    "deff_set"
   ]
  },
  {
   "cell_type": "code",
   "execution_count": 92,
   "id": "cc258c76",
   "metadata": {},
   "outputs": [
    {
     "name": "stdout",
     "output_type": "stream",
     "text": [
      "None\n"
     ]
    }
   ],
   "source": [
    "print(abc_Set.difference_update(abcd_Set))"
   ]
  },
  {
   "cell_type": "code",
   "execution_count": null,
   "id": "af9f6210",
   "metadata": {},
   "outputs": [],
   "source": []
  },
  {
   "cell_type": "code",
   "execution_count": null,
   "id": "cbe286ca",
   "metadata": {},
   "outputs": [],
   "source": []
  },
  {
   "cell_type": "code",
   "execution_count": null,
   "id": "8fa38fe4",
   "metadata": {},
   "outputs": [],
   "source": []
  },
  {
   "cell_type": "code",
   "execution_count": null,
   "id": "381fbc2a",
   "metadata": {},
   "outputs": [],
   "source": []
  },
  {
   "cell_type": "code",
   "execution_count": null,
   "id": "008ecfa8",
   "metadata": {},
   "outputs": [],
   "source": []
  },
  {
   "cell_type": "code",
   "execution_count": null,
   "id": "c156efa5",
   "metadata": {},
   "outputs": [],
   "source": []
  },
  {
   "cell_type": "code",
   "execution_count": null,
   "id": "2df7172b",
   "metadata": {},
   "outputs": [],
   "source": []
  },
  {
   "cell_type": "code",
   "execution_count": null,
   "id": "10845543",
   "metadata": {},
   "outputs": [],
   "source": []
  },
  {
   "cell_type": "code",
   "execution_count": null,
   "id": "bdc68856",
   "metadata": {},
   "outputs": [],
   "source": []
  },
  {
   "cell_type": "code",
   "execution_count": null,
   "id": "f546dba5",
   "metadata": {},
   "outputs": [],
   "source": []
  },
  {
   "cell_type": "code",
   "execution_count": null,
   "id": "85afdd49",
   "metadata": {},
   "outputs": [],
   "source": []
  },
  {
   "cell_type": "code",
   "execution_count": null,
   "id": "c08444df",
   "metadata": {},
   "outputs": [],
   "source": []
  },
  {
   "cell_type": "code",
   "execution_count": null,
   "id": "48e92e27",
   "metadata": {},
   "outputs": [],
   "source": []
  }
 ],
 "metadata": {
  "kernelspec": {
   "display_name": "Python 3 (ipykernel)",
   "language": "python",
   "name": "python3"
  },
  "language_info": {
   "codemirror_mode": {
    "name": "ipython",
    "version": 3
   },
   "file_extension": ".py",
   "mimetype": "text/x-python",
   "name": "python",
   "nbconvert_exporter": "python",
   "pygments_lexer": "ipython3",
   "version": "3.9.7"
  }
 },
 "nbformat": 4,
 "nbformat_minor": 5
}
